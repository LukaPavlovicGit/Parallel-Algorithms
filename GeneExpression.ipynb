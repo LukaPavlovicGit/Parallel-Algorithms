{
  "nbformat": 4,
  "nbformat_minor": 0,
  "metadata": {
    "colab": {
      "provenance": [],
      "include_colab_link": true
    },
    "kernelspec": {
      "name": "python3",
      "display_name": "Python 3"
    },
    "language_info": {
      "name": "python"
    }
  },
  "cells": [
    {
      "cell_type": "markdown",
      "metadata": {
        "id": "view-in-github",
        "colab_type": "text"
      },
      "source": [
        "<a href=\"https://colab.research.google.com/github/LukaPavlovicGit/Concurrent-Algorithms/blob/main/GeneExpression.ipynb\" target=\"_parent\"><img src=\"https://colab.research.google.com/assets/colab-badge.svg\" alt=\"Open In Colab\"/></a>"
      ]
    },
    {
      "cell_type": "markdown",
      "source": [
        "# Paralelni algoritmi - Drugi projekat\n",
        "\n",
        "- Projekat se radi individualno ili u paru\n",
        "\n",
        "- Rok za predaju projekata je **sreda 21.12.2022, do kraja dana (23:59)**. \n",
        "\n",
        "- Odbrane će biti organizovane u toku kolokvijumske nedelje.\n",
        "\n",
        "- Predaja projekata je putem e-maila, programski kod bi trebalo da\n",
        "bude prikacen uz sam e-mail. Subject e-maila treba da bude u formatu\n",
        "\"[RN3RA Projekat 1] Prezime (Prezime ukoliko se radi u paru)\". Tekst e-maila treba da bude u formi:\n",
        "\"Ime Prezime XX/GGRN\" (gde su XX i GG broje indeksa i godina upisa).\n",
        "Link ka Collab-u je opcion. Ukoliko dva\n",
        "studenta rade u paru, dovoljno je da jedan od njih preda, pri cemu\n",
        "drugog stavi u cc."
      ],
      "metadata": {
        "id": "o4ltJFHCyMCT"
      }
    },
    {
      "cell_type": "code",
      "source": [
        "from google.colab import drive\n",
        "drive.mount('/content/drive')"
      ],
      "metadata": {
        "colab": {
          "base_uri": "https://localhost:8080/"
        },
        "id": "MSOa9_O72Awz",
        "outputId": "bb800d13-38fe-49b4-c4d6-d6e2308d6f16"
      },
      "execution_count": null,
      "outputs": [
        {
          "output_type": "stream",
          "name": "stdout",
          "text": [
            "Mounted at /content/drive\n"
          ]
        }
      ]
    },
    {
      "cell_type": "markdown",
      "source": [
        "# Uvod \n",
        "Ekspresiju gena možemo meriti tako što u uzorku tkiva izmerimo količinu RNK molekula poteklu sa transkripata tog gena (više informacija na ovu temu će biti obrađeno u okviru predmeta Uvod u bioinformatiku u sledećem semetru; za potrebe ovog kursa dovoljno je da ekspresije posmatramo kao matrice brojeva).  \n",
        "\n",
        "SC RNA-seq je tehnologija koja nam omogućava da merimo ekspresije gena na nivou pojedinačnih ćelija u uzorku. Dakle, podaci sa kojima radimo je matrica čiji redovi označavaju različite gene, kolone različite ćelije iz uzorka, a vrednosti predstavljaju ekspresiju datog gena u datoj ćeliji.\n",
        "\n",
        "U okviru ovog projekta ćete implementirati standardne korake pri obradi SC RNA-seq podataka, ali koristeći map/reduce pristup.  \n",
        "\n",
        "Uobičajen način razmišljanja o SC RNA-seq podacima je da ih posmatramo kao podakte o skupu ćelija, pri čemu je svaka ćelija jedna (multidimenzionalna) tačka predstavljenom vektorom genskih ekspresija izmerenih za tu ćeliju. \n",
        "- Često želimo da pronađemo grupe (klastere) ćelija, gde su ćelije sličnih ekspresija svrstane u istu grupu\n",
        "- Često je korisno podatke prikazati u 2D (kako bi mogli da vidimo grupe), i za to se uglvnom koriste tehnike redukcije dimenzionalnosti kao što su TSNE ili UMAP. Detalji ovih metoda prevazilaze okvire ovog kursa, pa su je projekat dati i UMAP istog skupa podataka koji obrađujemo u okviru projekta."
      ],
      "metadata": {
        "id": "yekRFhylOC_L"
      }
    },
    {
      "cell_type": "code",
      "metadata": {
        "id": "IPyFL4lAql-N"
      },
      "source": [
        "import pandas as pd\n",
        "import matplotlib.pyplot as plt\n",
        "import seaborn as sn\n",
        "\n",
        "\n",
        "df = pd.read_table('/content/drive/MyDrive/ekspresije.tsv', index_col=0)\n",
        "data = [(cell, gene, value) for cell in df.columns \n",
        "                            for gene, value in df[cell].iteritems()]\n",
        "\n",
        "embedding = pd.read_table('/content/drive/MyDrive/umap.tsv')\n",
        "embedding['cluster'] = 0\n",
        "plt.figure(figsize=(8, 6))\n",
        "plt.scatter(\n",
        "    embedding.umap1,\n",
        "    embedding.umap2,\n",
        "    c=[sn.color_palette()[x] for x in embedding.cluster]\n",
        ")"
      ],
      "execution_count": null,
      "outputs": []
    },
    {
      "cell_type": "markdown",
      "metadata": {
        "id": "_Vsy9koDqmmS"
      },
      "source": [
        "# Zadatak"
      ]
    },
    {
      "cell_type": "markdown",
      "metadata": {
        "id": "LrJRijFwPrQA"
      },
      "source": [
        "Data je matrice geneteskih ekspresija dobijenih SC RNA-seq tehnologijom. Potrebno je napisati kod koji radi sledecu obradu.\n",
        "\n",
        "Matricu možete učitati u format pogodan za dalju obradu slecećim kodom:\n",
        "\n",
        "```python\n",
        "import pandas as pd\n",
        "df = pd.read_table('ekspresije.tsv', index_col=0)\n",
        "data = [(cell, gene, value) for cell in df.columns \n",
        "                            for gene, value in df[cell].iteritems()]\n",
        "```\n",
        "Uz matricu vrednosti je data i matrica UMAP vrednosti za svaku ćeliju. UMAP možete učitati i nacrtati sledećim kodom:\n",
        "```python\n",
        "import matplotlib.pyplot as plt\n",
        "import seaborn as sn\n",
        "\n",
        "embedding = pd.read_table('umap.tsv')\n",
        "embedding['cluster'] = 0\n",
        "plt.figure(figsize=(8, 6))\n",
        "plt.scatter(\n",
        "    embedding.umap1,\n",
        "    embedding.umap2,\n",
        "    c=[sn.color_palette()[x] for x in embedding.cluster]\n",
        ")\n",
        "```\n",
        "U sklopu zataka će biti potrebni odrediti klastere kojima ćelije pripadaju, pa će linija:\n",
        "```python\n",
        "embedding['cluster'] = 0\n",
        "```\n",
        "Biti zamenjena linijom koja upisu izračunate klastere. Na primer, ako imamo map oblika `klasteri = {'cell_id': 'cluster_id'}`:\n",
        "```python\n",
        "embedding['cluster'] = embedding.cell.map(klasteri)\n",
        "```\n",
        "\n",
        "#  1. Normalizacija unutar ćelija\n",
        "\n",
        "- (1.1) Pomoću funkcije reduce odrediti srednju vrednost eksresija gena unutar svake ćelije.  \n",
        "  Rezultat formirati kao niz tuple-ova (ćelija, srednja-vrednost). Poslednji element rezultata možete izmeniti nakon poziva funkcije reduce. **(1.5 bod)**\n",
        "\n",
        "- (1.2) Pomoću funkcije map izrvšiti centriranje vrednosti ekspresija oko srednje vrednosti unutar date ćelije.   \n",
        "  Rezultat treba da bude niz tuple-ova (ćelija, gen, vrednost - srednja-vrednost-u-ćeliji).   \n",
        "  Radi rešavanja ove tačke niz srednjih vrednosti iz prethodne tačke možete pretvoriti u mapu (dict). **(1 bod)**\n",
        "\n",
        "- (1.3) Pomoću funkije reduce odrediti odrediti varijansu ekspresija unutar svake ćelije, polazeći od rezultata iz prethodnog koraka.  \n",
        "Rezultat treba da bude niz tuple-ova (ćelija, varijansa-vrednosti-u-ćeliji). Poslednji element rezultata možete izmeniti nakon poziva funkcije reduce. **(1 bod)**\n",
        "\n",
        "- (1.4) Pomoću funkcije map odrediti standardnu devijaciju ekspresija unutar svake ćelije, polazeći od niza varijansi iz tačke (1.3). Rezultat formirati kao niz tuple-ova (ćelija, standardna devijacija). **(0.5 bodova)**\n",
        "\n",
        "- (1.5) Pomoću funkcije map izrvšiti izvršiti stadnardizaciju vrednosti ekspresija unutar svake ćelije, polazeći od niza iz u tačke (1.2). Rezultat treba da bude niz tuple-ova (ćelija, gen, vrednost). Radi rešavanja ove tačke, rezultat  tačke (1.4) možete pretvoriti u mapu (dict). **(1 bod)**\n",
        "\n",
        "\n",
        "### Defnicije operacija\n",
        "- Centriranje vrednosti ekspresija oko srednje vrednosti niza: oduzimanje srednje vrednosti niza od svih elemenata niza\n",
        "- Stadnardizacija vrednosti niza $z = \\frac{x - x_{srednje}}{\\sigma}$, pri čemu je $x_{srednje}$ srednja vrednost niza, a $\\sigma$ standardna devijacija."
      ]
    },
    {
      "cell_type": "markdown",
      "metadata": {
        "id": "Gdhams4FYFwB"
      },
      "source": [
        "# 2. Nomralizacija vrednosti ekspresije gena\n",
        "\n",
        "- (2.1) Pomoću funkija `map` i `reduce` odrediti varijansu ekspresija za svaki gen. Kao ulaz koristi niz kreiran u stavci (1.5), koji prethodno mozete sortirati po imenu gena. Možete primeniti istu skevencu koraka kao u tačkama 1.1-1.3 (računanje srednjih vrednosti, centriranje, pa varijansa).\n",
        "Rezultat treba da bude niz tuple-ova (gen, varijansa-vrednosti-gena). Poslednji element rezultata možete izmeniti nakon poziva funkcije reduce. **1 bod**\n",
        "\n",
        "- (2.2) Pomoću funckije `reduce` odrediti skup od 500 najvarijabilnijh gena. Kao ulaz koristi niz kreiran u stavci (2.1), koji možete prethodno sortirati standardnim metodama. **1 bod**\n",
        "\n",
        "- (2.3) Pomoću funkcije `reduce` filtirati niz iz tačke (1.5) tako da sadrži samo gene koji se nalaze u 500 najvarijabilnijih gena. **1 bod**\n",
        "\n",
        "- (2.4) Sortirati niz kreiran u zadatku (2.3), tako da bude leksikografki sortiran po imenu gena (sve vrednosti izmerene za isti gen će se tako naći jedna do druge), a unutar jednog gena opadajuće po vrednosti normalizovane ekspresije.  \n",
        "Rezultat treba da bude niz tuple-ova (ćelija, gen, vrednost).  \n",
        "U okviru ove tačke možete koristi python funkciju `sorted`. \n",
        "\n",
        "- (2.5) Pomoću funkcije `reduce` izvršiti rank normalizaciju vrednosti unutar jednog gena (najmanja izmerena vrednost gena u bilo kojoj ćeliji će dobiti vrednost 1, sledeća 2 itd. Ako je za neki gen izmerena ista vrednost u dve ćelije, rang će biti ponovljen).  \n",
        "Rezultat treba da bude niz tuple-ova (ćelija, gen, originalna-vrednost, rank-vrednost): **1.5 bod**\n",
        "\n",
        "- (2.6) Pomoću funkcije map izbaciti originalne vrednosti (pre rank normalizacije) iz niza iz tačke 2.2. **0.5 bodova**"
      ]
    },
    {
      "cell_type": "markdown",
      "metadata": {
        "id": "wlulH3aHpdQ5"
      },
      "source": [
        "# 3. K-means klasterovanje\n",
        "\n",
        "- (3.1) Pomoću funkcije reduce grupisati vrednosti iz niza iz tačke (2.5) prema ćeliji.  \n",
        "Rezultat treba da bude niz čiji su elementi tuple-ovi, takvi da je prvi element tuple-a identifikator ćelije, a drugi element niz vrednosti za sve gene izmerene u toj ćeliji.  \n",
        "Vrednosti za različite gene moraju da se pojavljuju istim redosledom kod svih ćelija.: **2 boda**\n",
        "\n",
        "- (3.2) Pomoću funkcija map i reduce implementriati k-means klasterovanje.  Klasterovati podatke u 2, 4, 6 i 10 klastera i prikazati rezultate bojenjem UMAP grafikona (UMAP kooridnate su date u posebnom fajlu).  \n",
        "Nacrtati UMAP grafikone posle 1, 10 i 250 iteracija optimizacije **8 bodova**"
      ]
    },
    {
      "cell_type": "markdown",
      "source": [
        "#1. Normalizacija unutar ćelija"
      ],
      "metadata": {
        "id": "ApunAdO274Nz"
      }
    },
    {
      "cell_type": "code",
      "source": [
        "import pandas as pd \n",
        "import matplotlib.pyplot as plt\n",
        "import seaborn as sn\n",
        "from functools import reduce \n",
        "from itertools import starmap \n",
        "import itertools\n",
        "import math\n",
        "\n",
        "df = pd.read_table('/content/drive/MyDrive/ekspresije.tsv', index_col=0) \n",
        "\n",
        "data = [(cell, gene, value) for cell in df.columns \n",
        "                            for gene, value in df[cell].iteritems()]\n",
        "\n",
        "def find_cell_meanValue(accumulator, tuple): \n",
        "  if not accumulator: \n",
        "    accumulator = [[tuple[0], tuple[2], 1]] \n",
        "  elif accumulator[-1][0] == tuple[0] : \n",
        "    accumulator[-1][1] += tuple[2] \n",
        "    accumulator[-1][2] += 1 \n",
        "  else: \n",
        "    accumulator[-1] = [accumulator[-1][0], accumulator[-1][1] / accumulator[-1][2]] \n",
        "    accumulator = accumulator + [[tuple[0], tuple[2], 1]] \n",
        "  return accumulator\n",
        "\n",
        "def center_cell_values(tuple, meanValue):\n",
        "  return tuple[0], tuple[1], tuple[2] - meanValue\n",
        "\n",
        "def find_cell_variance(accumulator, tuple): \n",
        "  if not accumulator: \n",
        "    accumulator = [[tuple[0], pow(tuple[2], 2), 1]] \n",
        "  elif accumulator[-1][0] == tuple[0]: \n",
        "    accumulator[-1][1] += pow(tuple[2], 2) \n",
        "    accumulator[-1][2] += 1 \n",
        "  else: \n",
        "    accumulator[-1] = [accumulator[-1][0], accumulator[-1][1] / accumulator[-1][2]] \n",
        "    accumulator = accumulator + [[tuple[0], pow(tuple[2], 2), 1]] \n",
        "  return accumulator\n",
        "\n",
        "def find_cell_deviation(cell_name, cell_variance):\n",
        "  return cell_name, math.sqrt(cell_variance)\n",
        "\n",
        "def standardization_of_cell_values(tuple, meanValue, deviation):\n",
        "  return tuple[0], tuple[1], (tuple[2] - meanValue) / deviation\n",
        "\n",
        "# 1.1 Trazimo srednje vrednosti gena unutar svake celije\n",
        "cell_mean_values = reduce(find_cell_meanValue, data, []) \n",
        "cell_mean_values[-1] = [cell_mean_values[-1][0], cell_mean_values[-1][1] / cell_mean_values[-1][2]]\n",
        "\n",
        "  # Skaliramo srednje vrednosti unutar celija tako da se svaka srednja vrednost pojavi onoliko puta koliko ima gena\n",
        "scaled_cell_mean_values = [[tuple[1]] * 5068 for tuple in cell_mean_values]\n",
        "  # array flatten\n",
        "scaled_cell_mean_values = list(itertools.chain(*scaled_cell_mean_values))\n",
        "\n",
        "# 1.2 Centriramo vrednosti gena oko srednje vrednosti unutar svake celije\n",
        "centered_cell_values = map(center_cell_values, data, scaled_cell_mean_values)\n",
        "\n",
        "# 1.3 Trazimo vrednost varijanse unutar svake celije (varijansa celije = suma kvadrata vrednosti gena celije / broj gena)\n",
        "cell_variances = reduce(find_cell_variance, centered_cell_values, [])\n",
        "cell_variances[-1] = [cell_variances[-1][0], cell_variances[-1][1] / cell_variances[-1][2]]\n",
        "\n",
        "# 1.4 Trazimo vrednost devijacije unutar svake celije (devijacija celije = sqrt(varijansa celije))\n",
        "cell_deviations = starmap(find_cell_deviation, cell_variances)\n",
        "\n",
        "  # Skaliramo devijacije unutar celija tako da se svaka devijacije pojavi onoliko puta koliko ima gena\n",
        "scaled_cell_deviations = [[tuple[1]] * 5068 for tuple in cell_deviations] \n",
        "  # array flatten\n",
        "scaled_cell_deviations = list(itertools.chain(*scaled_cell_deviations))\n",
        "\n",
        "# 1.5 Racunamo standardizaciju vrednosti gena unutar svake celije kao sto je opisano u zadatku\n",
        "standardized_cell_values = list(map(standardization_of_cell_values, data, scaled_cell_mean_values, scaled_cell_deviations))"
      ],
      "metadata": {
        "id": "0KA8spVWED66"
      },
      "execution_count": null,
      "outputs": []
    },
    {
      "cell_type": "markdown",
      "source": [
        "#2. Nomralizacija vrednosti ekspresije gena\n",
        "\n",
        "---\n",
        "\n"
      ],
      "metadata": {
        "id": "li7xaf2cK5cU"
      }
    },
    {
      "cell_type": "code",
      "source": [
        "import pandas as pd \n",
        "import matplotlib.pyplot as plt\n",
        "import seaborn as sn \n",
        "import functools\n",
        "import itertools\n",
        "import math\n",
        "\n",
        "def compare1(str1, str2):\n",
        "  if len(str1) < len(str2):\n",
        "    return -1\n",
        "\n",
        "  if len(str1) == len(str2):\n",
        "    if str1 < str2:\n",
        "      return -1\n",
        "  \n",
        "  return 1\n",
        "\n",
        "def compare2(tuple1, tuple2):\n",
        "  if tuple1[1] < tuple2[1]:\n",
        "    return 1\n",
        "  \n",
        "  if tuple1[1] == tuple2[1]:\n",
        "    if tuple1[2] < tuple2[2]:\n",
        "      return 1\n",
        "\n",
        "  return -1\n",
        "\n",
        "def find_gene_meanValue(accumulator, tuple):\n",
        "  if not accumulator:\n",
        "    accumulator = [[tuple[1], tuple[2], 1]]\n",
        "  elif accumulator[-1][0] == tuple[1]:\n",
        "    accumulator[-1][1] += tuple[2]\n",
        "    accumulator[-1][2] += 1\n",
        "  else:\n",
        "    accumulator[-1] = [accumulator[-1][0], accumulator[-1][1] / accumulator[-1][2]]\n",
        "    accumulator = accumulator + [[tuple[1], tuple[2], 1]]\n",
        "  return accumulator\n",
        "\n",
        "def center_gene_values(tuple, meanValue):\n",
        "  return tuple[0], tuple[1], tuple[2] - meanValue\n",
        "\n",
        "def find_gene_variance(accumulator, tuple): \n",
        "  if not accumulator: \n",
        "    accumulator = [[tuple[1], pow(tuple[2], 2), 1]] \n",
        "  elif accumulator[-1][0] == tuple[1]: \n",
        "    accumulator[-1][1] += pow(tuple[2], 2) \n",
        "    accumulator[-1][2] += 1 \n",
        "  else: \n",
        "    accumulator[-1] = [accumulator[-1][0], accumulator[-1][1] / accumulator[-1][2]] \n",
        "    accumulator = accumulator + [[tuple[1], pow(tuple[2], 2), 1]] \n",
        "  return accumulator\n",
        "\n",
        "def the_500_most_variable_genes(accumulator, tuple):\n",
        "  if len(accumulator) < 500:\n",
        "    return accumulator + [tuple]\n",
        "  return accumulator\n",
        "\n",
        "def filter_standardized_cell_values(accumulator, tuple):\n",
        "  if tuple[1] in accumulator[:500]:\n",
        "    return accumulator + [tuple]\n",
        "  return accumulator\n",
        "\n",
        "def assign_ranks_inside_genes(accumulator, tuple): # tuple[0] = cellname, tuple[1] = genename, tuple[2] = value\n",
        "  if not accumulator:\n",
        "    return [[tuple[0], tuple[1], tuple[2], 1]]\n",
        "  if accumulator[-1][1] == tuple[1]:\n",
        "    if accumulator[-1][2] == tuple[2]:\n",
        "      return accumulator + [[tuple[0], tuple[1], tuple[2], accumulator[-1][3]]]\n",
        "    return accumulator + [[tuple[0], tuple[1], tuple[2], accumulator[-1][3] + 1]]\n",
        "\n",
        "  return accumulator + [[tuple[0], tuple[1], tuple[2], 1]]\n",
        "\n",
        "def remove_original_values(tuple):\n",
        "  return tuple[0], tuple[1], tuple[3]\n",
        "\n",
        "# novi data set sortiran po imenu gena\n",
        "new_data = sorted(standardized_cell_values, key=lambda x: x[1])\n",
        "\n",
        "# 2.1 \n",
        "  # Trazimo srednje vrednosti gena unutar svakog gena \n",
        "gene_mean_values = reduce(find_gene_meanValue, new_data, [])\n",
        "gene_mean_values[-1] = [gene_mean_values[-1][0], gene_mean_values[-1][1] / gene_mean_values[-1][2]]\n",
        "\n",
        "  # Skaliramo sredje vrednosti unutar gena tako da se svaka srednja vrednost pojavi onoliko puta koliko ima celija\n",
        "scaled_gene_mean_values = [[tuple[1]] * 534 for tuple in gene_mean_values]\n",
        "  # array flatten\n",
        "scaled_gene_mean_values = list(itertools.chain(*scaled_gene_mean_values))\n",
        "  \n",
        "  # Centriramo vrednosti celija oko srednje vrednosti unutar svakog gena\n",
        "centered_gene_values = map(center_gene_values, new_data, scaled_gene_mean_values)\n",
        "\n",
        "  # Trazimo vrednost varijanse unutar svake gena (varijansa gena = suma kvadrata vrednosti celija gena / broj celija)\n",
        "gene_variances = reduce(find_gene_variance, centered_gene_values, [])\n",
        "gene_variances[-1] = [gene_variances[-1][0], gene_variances[-1][1] / gene_variances[-1][2]]\n",
        "\n",
        "# 2.2 Trazimo 500 najvarijabilnijih gena\n",
        "gene_variances.sort(key=lambda x: x[1], reverse=True)\n",
        "the_500_most_variable_genes = list(reduce(the_500_most_variable_genes, gene_variances, []))\n",
        "\n",
        "# 2.3 Filtriramo niz iz 1.5 tako da sadzi samo najvarijabilnije gene\n",
        "  # Kao accumulator je prosledjen niz imena 500 najvarijabilnijih gena\n",
        "filtered_standardized_cell_values = list(reduce(filter_standardized_cell_values, \n",
        "                                                standardized_cell_values, \n",
        "                                                sorted([tuple[0] for tuple in the_500_most_variable_genes], key=functools.cmp_to_key(compare1)))) # mini optimizacija\n",
        "  # Izbacujemo imena 500 najvarijabilnijih gena \n",
        "filtered_standardized_cell_values = filtered_standardized_cell_values[500:]\n",
        "\n",
        "# 2.4 Sortirano niz iz 2.3 kao sto je opisano u zadatku\n",
        "filtered_standardized_cell_values.sort(key=functools.cmp_to_key(compare2), reverse=True)\n",
        "\n",
        "# 2.5 Odradjujemo rank normalizaciju unutar svakog gena\n",
        "  # assigned_ranks_inside_genes[i][0] = cellname\n",
        "  # assigned_ranks_inside_genes[i][1] = genename\n",
        "  # assigned_ranks_inside_genes[i][2] = value\n",
        "  # assigned_ranks_inside_genes[i][3] = rank\n",
        "assigned_ranks_inside_genes = reduce(assign_ranks_inside_genes, filtered_standardized_cell_values, [])\n",
        "\n",
        "# 2.6 Izbacujemo 'value' iz 2.5\n",
        "assigned_ranks_inside_genes = list(map(remove_original_values, assigned_ranks_inside_genes))"
      ],
      "metadata": {
        "id": "LUZV9F0RK75e"
      },
      "execution_count": null,
      "outputs": []
    },
    {
      "cell_type": "code",
      "source": [
        "import matplotlib.pyplot as plt\n",
        "import pandas as pd \n",
        "import seaborn as sn \n",
        "import functools\n",
        "import itertools\n",
        "import math\n",
        "\n",
        "\n",
        "def compare3(tuple1, tuple2):\n",
        "  if tuple1[0] < tuple2[0]:\n",
        "    return -1\n",
        "  if tuple1[0] == tuple2[0]:\n",
        "    if tuple1[1] < tuple2[1]:\n",
        "      return -1\n",
        "    if tuple1[1] == tuple2[1]:\n",
        "      return 0\n",
        "  \n",
        "  return 1 \n",
        "\n",
        "def F3_1(accumulator, tuple): # accumulator[i][0] - \n",
        "  if not accumulator:\n",
        "    accumulator = [[tuple[0], [tuple[2]]]]\n",
        "  elif accumulator[-1][0] == tuple[0]:\n",
        "    accumulator[-1][1] += [tuple[2]]\n",
        "  else:\n",
        "    accumulator += [[tuple[0], [tuple[2]]]]\n",
        "  \n",
        "  return accumulator\n",
        "\n",
        "# 3.1 Grupisemo rankove iz 2.6  prema celijama\n",
        "assigned_ranks_inside_genes.sort(key=functools.cmp_to_key(compare3))\n",
        "  # assigned_ranks_inside_genes_grouped_by_cells[i][0] = cellname\n",
        "  # assigned_ranks_inside_genes_grouped_by_cells[i][1] = array of ranks relative to gene names\n",
        "assigned_ranks_inside_genes_grouped_by_cells = reduce(F3_1, assigned_ranks_inside_genes, [])\n",
        "\n",
        "for i in range(4):\n",
        "  print(assigned_ranks_inside_genes_grouped_by_cells[i])"
      ],
      "metadata": {
        "id": "QQ1i3k1XVfI9",
        "colab": {
          "base_uri": "https://localhost:8080/"
        },
        "outputId": "c3e7f2f3-093e-46d0-902a-fcfa79787f9d"
      },
      "execution_count": null,
      "outputs": [
        {
          "output_type": "stream",
          "name": "stdout",
          "text": [
            "['cell_0', [212, 192, 278, 288, 514, 107, 56, 288, 186, 170, 132, 65, 341, 131, 117, 336, 247, 105, 313, 153, 277, 167, 153, 361, 132, 402, 286, 52, 80, 149, 84, 347, 312, 293, 204, 113, 163, 309, 229, 250, 504, 284, 122, 292, 447, 403, 226, 120, 158, 205, 430, 218, 281, 321, 267, 304, 374, 314, 295, 428, 451, 218, 220, 357, 67, 295, 245, 166, 479, 508, 461, 232, 230, 155, 299, 175, 247, 163, 31, 328, 110, 359, 307, 263, 169, 317, 141, 76, 60, 491, 154, 280, 234, 242, 247, 154, 314, 188, 372, 364, 326, 182, 183, 78, 205, 287, 352, 389, 471, 47, 402, 1, 277, 332, 314, 57, 386, 241, 95, 505, 290, 299, 254, 479, 108, 326, 111, 232, 155, 306, 312, 31, 166, 74, 155, 185, 135, 28, 318, 251, 420, 124, 119, 131, 258, 155, 275, 522, 260, 420, 92, 146, 147, 141, 148, 143, 375, 107, 283, 282, 301, 314, 33, 373, 317, 290, 77, 51, 139, 209, 284, 395, 445, 480, 470, 447, 353, 289, 72, 75, 279, 172, 136, 129, 273, 283, 286, 346, 140, 231, 116, 125, 218, 362, 75, 199, 229, 278, 192, 139, 173, 190, 442, 296, 95, 466, 297, 269, 44, 265, 84, 48, 499, 246, 300, 295, 418, 139, 225, 507, 157, 434, 66, 189, 153, 478, 250, 317, 107, 435, 136, 185, 469, 279, 283, 244, 501, 401, 527, 339, 325, 186, 393, 528, 158, 150, 308, 177, 209, 7, 156, 157, 286, 312, 197, 326, 192, 214, 229, 104, 166, 213, 222, 298, 121, 355, 239, 314, 163, 390, 184, 309, 229, 117, 186, 303, 140, 399, 327, 397, 330, 214, 187, 281, 254, 462, 145, 331, 172, 407, 78, 282, 514, 305, 93, 82, 211, 431, 177, 326, 290, 72, 147, 146, 316, 499, 177, 251, 186, 317, 155, 249, 361, 160, 235, 405, 173, 202, 286, 213, 163, 134, 484, 457, 364, 302, 285, 484, 210, 396, 471, 453, 454, 295, 447, 256, 409, 530, 334, 464, 376, 523, 439, 516, 271, 405, 532, 315, 470, 371, 210, 260, 320, 169, 36, 332, 515, 409, 393, 215, 497, 505, 227, 470, 522, 389, 460, 252, 470, 505, 284, 282, 321, 471, 507, 482, 447, 520, 289, 131, 452, 511, 431, 281, 350, 491, 363, 452, 292, 429, 427, 341, 474, 523, 499, 527, 153, 316, 461, 215, 298, 207, 52, 9, 69, 183, 130, 200, 249, 483, 152, 490, 137, 160, 136, 116, 112, 221, 304, 290, 129, 325, 173, 319, 260, 252, 164, 504, 195, 242, 315, 124, 395, 244, 127, 216, 237, 144, 212, 160, 241, 300, 315, 223, 508, 201, 372, 127, 111, 241, 424, 259, 36, 239, 236, 39, 299, 286, 232, 283, 317, 197, 204, 112, 319, 528, 325, 253, 426, 141, 199, 128, 307, 68, 107, 94, 312, 455, 299, 254, 276, 280, 291, 123, 79, 139, 234, 457, 226, 499, 297, 300, 322, 319, 305, 470, 233, 135, 182, 306]]\n",
            "['cell_1', [299, 396, 411, 426, 434, 198, 93, 418, 274, 161, 44, 101, 121, 199, 183, 173, 343, 463, 273, 460, 408, 177, 31, 283, 320, 362, 258, 190, 301, 219, 382, 181, 387, 376, 326, 341, 136, 174, 425, 357, 472, 245, 175, 427, 185, 457, 392, 159, 353, 297, 388, 433, 401, 464, 384, 445, 328, 384, 209, 466, 189, 529, 436, 316, 127, 499, 218, 231, 65, 441, 353, 299, 325, 357, 431, 246, 40, 244, 351, 284, 330, 311, 440, 431, 176, 69, 314, 123, 474, 364, 171, 411, 140, 358, 367, 222, 132, 266, 475, 317, 470, 401, 160, 295, 499, 421, 96, 133, 321, 228, 65, 293, 400, 307, 90, 52, 442, 250, 270, 353, 511, 427, 469, 295, 129, 475, 164, 312, 225, 494, 449, 511, 146, 87, 216, 522, 119, 189, 507, 372, 349, 521, 464, 423, 473, 424, 390, 121, 465, 165, 141, 345, 240, 355, 318, 121, 289, 279, 407, 418, 435, 455, 257, 326, 451, 499, 350, 386, 44, 166, 260, 132, 116, 317, 297, 104, 141, 181, 46, 441, 461, 353, 466, 240, 99, 359, 412, 306, 215, 326, 451, 199, 423, 312, 514, 277, 332, 404, 171, 93, 246, 519, 397, 434, 208, 277, 435, 123, 179, 389, 516, 529, 346, 355, 437, 418, 474, 375, 315, 531, 458, 519, 106, 293, 230, 180, 457, 170, 162, 385, 99, 178, 532, 413, 411, 339, 70, 9, 66, 36, 199, 89, 96, 66, 403, 484, 443, 309, 284, 302, 244, 218, 412, 451, 288, 473, 406, 178, 327, 376, 246, 313, 209, 436, 178, 326, 346, 277, 148, 373, 108, 440, 33, 436, 269, 16, 302, 246, 474, 201, 287, 320, 286, 73, 118, 264, 222, 281, 251, 368, 297, 415, 391, 444, 145, 217, 419, 444, 528, 172, 83, 167, 319, 324, 504, 333, 228, 459, 268, 462, 138, 478, 312, 486, 338, 171, 260, 491, 420, 147, 145, 347, 335, 223, 266, 258, 60, 353, 483, 180, 242, 136, 23, 465, 236, 127, 330, 351, 416, 528, 261, 269, 55, 215, 169, 201, 335, 228, 451, 323, 245, 268, 237, 250, 254, 265, 517, 158, 207, 124, 145, 159, 39, 366, 165, 260, 234, 199, 65, 71, 307, 97, 357, 412, 330, 436, 181, 251, 451, 279, 337, 106, 121, 521, 451, 527, 170, 434, 259, 255, 138, 179, 229, 241, 132, 522, 116, 152, 395, 315, 425, 65, 116, 96, 118, 265, 195, 171, 95, 364, 329, 446, 148, 217, 457, 166, 230, 323, 432, 496, 111, 207, 186, 506, 517, 370, 366, 152, 281, 227, 455, 290, 483, 361, 481, 396, 203, 206, 328, 130, 359, 434, 459, 320, 354, 173, 331, 180, 166, 347, 468, 350, 383, 347, 299, 490, 503, 422, 437, 411, 460, 389, 409, 169, 231, 194, 463, 207, 499, 121, 182, 184, 266, 166, 154, 143, 504, 340, 311, 411, 403, 478, 248, 182, 220, 502, 451, 305, 119, 467, 433, 435, 467, 240, 264, 480, 349, 90, 476, 444]]\n",
            "['cell_10', [398, 207, 302, 313, 441, 175, 293, 312, 199, 274, 293, 72, 183, 302, 372, 276, 264, 273, 205, 497, 302, 349, 99, 359, 340, 265, 436, 98, 466, 482, 466, 497, 89, 393, 14, 356, 255, 99, 492, 268, 351, 375, 131, 315, 446, 279, 72, 305, 169, 431, 288, 238, 303, 346, 292, 330, 239, 203, 218, 292, 402, 234, 234, 236, 501, 49, 314, 281, 195, 328, 268, 314, 478, 279, 510, 510, 242, 320, 446, 200, 349, 212, 332, 17, 180, 343, 469, 219, 169, 490, 330, 302, 510, 262, 267, 167, 446, 202, 136, 231, 351, 199, 113, 319, 223, 312, 460, 394, 67, 406, 183, 482, 298, 329, 436, 287, 259, 267, 426, 266, 173, 324, 274, 216, 464, 353, 184, 246, 363, 331, 338, 460, 313, 279, 43, 389, 471, 456, 343, 273, 169, 322, 304, 434, 368, 238, 492, 300, 284, 441, 376, 498, 462, 212, 165, 446, 127, 115, 307, 305, 326, 339, 227, 250, 341, 316, 86, 14, 352, 19, 348, 274, 300, 230, 391, 336, 265, 356, 220, 226, 506, 191, 148, 98, 63, 175, 310, 231, 81, 146, 75, 488, 238, 233, 198, 441, 445, 298, 517, 99, 325, 203, 402, 324, 322, 207, 319, 331, 481, 286, 192, 309, 261, 264, 298, 314, 352, 475, 434, 217, 251, 346, 533, 372, 386, 78, 327, 62, 248, 149, 182, 434, 214, 303, 305, 261, 133, 318, 239, 295, 70, 490, 50, 33, 249, 161, 334, 86, 146, 196, 45, 230, 309, 335, 217, 353, 415, 315, 250, 245, 180, 435, 520, 322, 436, 406, 261, 201, 479, 222, 386, 333, 435, 128, 532, 353, 27, 256, 353, 149, 212, 232, 400, 200, 252, 482, 230, 202, 188, 523, 86, 302, 288, 332, 264, 366, 425, 184, 191, 184, 505, 178, 332, 27, 341, 196, 236, 271, 199, 344, 421, 186, 234, 175, 454, 178, 184, 394, 310, 416, 473, 92, 296, 120, 270, 394, 154, 511, 256, 190, 84, 384, 180, 342, 195, 255, 360, 74, 441, 227, 351, 112, 144, 99, 323, 318, 236, 430, 57, 397, 422, 534, 93, 388, 471, 165, 321, 428, 376, 351, 3, 141, 471, 168, 237, 496, 44, 175, 212, 140, 170, 238, 363, 27, 303, 330, 160, 375, 130, 85, 262, 184, 204, 501, 274, 2, 436, 119, 331, 111, 282, 441, 306, 239, 433, 233, 492, 221, 406, 230, 320, 351, 232, 302, 524, 421, 405, 301, 277, 277, 338, 179, 87, 280, 326, 413, 297, 449, 329, 312, 214, 323, 489, 342, 466, 275, 174, 259, 127, 365, 341, 246, 107, 263, 436, 413, 142, 218, 234, 92, 261, 325, 341, 240, 78, 413, 241, 240, 241, 525, 284, 361, 40, 259, 357, 521, 325, 311, 249, 307, 344, 215, 420, 312, 390, 422, 350, 506, 147, 413, 277, 271, 520, 171, 357, 524, 336, 388, 112, 50, 300, 484, 178, 319, 360, 472, 331, 534, 240, 347, 323, 322, 347, 274, 203, 260, 253, 282, 442, 330]]\n",
            "['cell_100', [50, 46, 67, 73, 471, 421, 76, 69, 38, 530, 478, 481, 302, 27, 529, 443, 460, 435, 38, 461, 70, 240, 128, 196, 378, 55, 47, 528, 494, 33, 326, 26, 20, 19, 92, 229, 288, 43, 125, 55, 81, 407, 287, 75, 343, 57, 533, 346, 390, 460, 69, 54, 62, 75, 67, 76, 51, 41, 16, 58, 366, 62, 61, 51, 313, 457, 345, 528, 486, 73, 62, 485, 497, 445, 78, 352, 499, 527, 8, 37, 10, 367, 78, 448, 457, 30, 492, 523, 15, 507, 526, 69, 520, 62, 59, 34, 533, 48, 11, 49, 80, 32, 284, 369, 43, 513, 230, 302, 443, 459, 444, 87, 68, 218, 117, 509, 46, 528, 461, 58, 40, 71, 52, 455, 228, 73, 303, 391, 501, 500, 72, 206, 310, 366, 418, 50, 398, 267, 78, 480, 390, 469, 435, 34, 309, 287, 508, 273, 59, 215, 483, 408, 506, 18, 474, 408, 471, 329, 513, 69, 69, 75, 136, 56, 519, 513, 16, 436, 457, 315, 492, 384, 481, 41, 423, 491, 506, 505, 425, 261, 402, 45, 29, 138, 390, 402, 66, 49, 264, 34, 24, 313, 454, 46, 225, 375, 518, 68, 389, 117, 339, 48, 67, 69, 244, 43, 69, 462, 479, 60, 304, 134, 53, 491, 186, 70, 32, 249, 56, 255, 497, 30, 442, 418, 529, 365, 26, 447, 319, 39, 297, 473, 232, 510, 67, 66, 157, 479, 136, 33, 181, 451, 138, 445, 20, 508, 71, 293, 450, 394, 246, 267, 501, 81, 416, 78, 50, 356, 60, 425, 32, 40, 388, 76, 297, 52, 61, 48, 296, 140, 349, 516, 121, 23, 316, 27, 48, 23, 81, 323, 42, 50, 39, 108, 484, 311, 261, 507, 405, 62, 219, 68, 497, 73, 298, 493, 449, 223, 436, 371, 518, 345, 369, 284, 81, 51, 464, 485, 44, 75, 372, 471, 50, 467, 60, 373, 41, 512, 63, 454, 281, 473, 293, 267, 288, 389, 353, 196, 212, 329, 418, 165, 409, 401, 349, 157, 6, 67, 236, 150, 58, 122, 100, 182, 167, 167, 94, 139, 68, 173, 156, 136, 218, 310, 57, 63, 150, 359, 233, 287, 112, 234, 224, 236, 25, 487, 191, 387, 329, 76, 300, 367, 444, 119, 242, 136, 292, 173, 172, 344, 110, 520, 199, 179, 208, 22, 178, 58, 223, 35, 159, 472, 280, 80, 162, 73, 342, 209, 50, 456, 529, 391, 310, 463, 472, 420, 387, 23, 232, 522, 521, 35, 320, 45, 33, 526, 363, 50, 77, 67, 13, 361, 528, 82, 66, 58, 411, 22, 30, 532, 76, 407, 407, 53, 457, 350, 358, 252, 456, 438, 58, 74, 71, 46, 8, 493, 52, 494, 456, 52, 58, 400, 184, 54, 480, 335, 76, 68, 54, 508, 81, 48, 456, 453, 19, 253, 85, 376, 439, 240, 304, 419, 39, 205, 469, 402, 74, 66, 259, 362, 64, 508, 406, 355, 265, 23, 375, 49, 320, 77, 517, 518, 79, 435, 48, 447, 55, 223, 30, 68]]\n"
          ]
        }
      ]
    },
    {
      "cell_type": "code",
      "source": [
        "import numpy as np\n",
        "import pandas as pd \n",
        "import matplotlib.pyplot as plt\n",
        "import seaborn as sn \n",
        "import functools\n",
        "import itertools\n",
        "import math\n",
        "import sys\n",
        "from decimal import Decimal\n",
        "\n",
        "\n",
        "def min_max(accumulator, tuple):\n",
        "  if not accumulator:\n",
        "    accumulator = { 'map1': [tuple[0], tuple[0]], 'map2': [tuple[1], tuple[1]]}\n",
        "  else:\n",
        "    accumulator['map1'][0] = min(tuple[0], accumulator['map1'][0])\n",
        "    accumulator['map1'][1] = max(tuple[0], accumulator['map1'][1])\n",
        "\n",
        "    accumulator['map2'][0] = min(tuple[1], accumulator['map2'][0])\n",
        "    accumulator['map2'][1] = max(tuple[1], accumulator['map2'][1])\n",
        "  \n",
        "  return accumulator\n",
        "\n",
        "def cluster_assigmnet(accumulator, tuple):\n",
        "  \n",
        "  distance = Decimal(sys.maxsize)\n",
        "  cellname_centroid = None\n",
        "\n",
        "  for i in range(len(accumulator['centroids'])):\n",
        "    tmp_distance = Decimal( np.sqrt(((accumulator['centroids'][i] - [float(tuple[1]), float(tuple[2])])**2).sum()) )\n",
        "    if tmp_distance < distance:\n",
        "      distance = tmp_distance\n",
        "      cellname_centroid = {tuple[0]: i}\n",
        "\n",
        "  accumulator.update(cellname_centroid)\n",
        "  return accumulator\n",
        "\n",
        "def calculate_centroids(accumulator, tuple):\n",
        "  cell_values = accumulator['cells_values'][tuple[0]]\n",
        "  if tuple[1] not in accumulator.keys():\n",
        "    accumulator.update({ tuple[1]: [cell_values[0], cell_values[1], 1, cell_values[0], cell_values[1]] })\n",
        "  else:\n",
        "    accumulator[tuple[1]][0] += cell_values[0]\n",
        "    accumulator[tuple[1]][1] += cell_values[1]\n",
        "    accumulator[tuple[1]][2] += 1\n",
        "    accumulator[tuple[1]][3] = accumulator[tuple[1]][0] / accumulator[tuple[1]][2]\n",
        "    accumulator[tuple[1]][4] = accumulator[tuple[1]][1] / accumulator[tuple[1]][2]\n",
        "\n",
        "  return accumulator\n",
        "\n",
        "# 3.2 K-means klasterovanje\n",
        "\n",
        "cell_names = [cell_names for cell_names in embedding['cell']]\n",
        "umap1 = [x for x in embedding['umap1']]\n",
        "umap2 = [x for x in embedding['umap2']]\n",
        "zipped_umap1_umap2 = np.dstack((umap1, umap2))\n",
        "  # trazimo minimalne i maksimalne vrednsti iz umap1 i umap2, zbog generisanja centroida\n",
        "min_max_values = reduce(min_max, zipped_umap1_umap2[0], [])\n",
        "\n",
        "k = 10\n",
        "np.random.seed(3)\n",
        "centroids = np.random.uniform(min(min_max_values['map1'][0], min_max_values['map2'][0]), max(min_max_values['map1'][1], min_max_values['map2'][1]), (k, 2))\n",
        "\n",
        "# zipujemo cellnames, umap1 i umap2\n",
        "zipped_cellnames_umap1_umap2 = np.dstack((cell_names, umap1, umap2))\n",
        "# na ime celije umapiramo vrednosti umap1 i umap2 za datu celiju -> {cell_0: [x, y]}\n",
        "mapped_cell_values = { tup[0]: [float(tup[1]), float(tup[2])] for tup in zipped_cellnames_umap1_umap2[0] }\n",
        "\n",
        "for i in range(251):\n",
        "\n",
        "  # Svakoj celiji dodeljujemo kom klasteru pripada\n",
        "    # akumulator ce sadrzati vrednosti centroida \n",
        "  accumulator = {'centroids': centroids}\n",
        "  assiged_clusters = reduce(cluster_assigmnet, zipped_cellnames_umap1_umap2[0], accumulator)\n",
        "  del assiged_clusters['centroids']\n",
        "\n",
        "  # ispis\n",
        "  if i + 1 == 1 or i + 1  == 10 or i + 1 == 250:\n",
        "    embedding['cluster'] = embedding.cell.map(assiged_clusters)\n",
        "    plt.figure(figsize=(7, 5))\n",
        "\n",
        "    [plt.scatter(*c, marker='*', s=150) for c in centroids]\n",
        "    plt.scatter(\n",
        "        embedding.umap1,\n",
        "        embedding.umap2,\n",
        "        c=[sn.color_palette()[x] for x in embedding.cluster],\n",
        "    )\n",
        "\n",
        "  # Racunamo nove vrednosti centorida\n",
        "    # akumulator ce sadrzati imena celija i njene kordinate\n",
        "  accumulator = {'cells_values': mapped_cell_values }\n",
        "    # centroids ce biti formata -> [ {centroid_id: totalX, totalY, cnt, curResX, curResY}, ... ]\n",
        "  centroids = reduce(calculate_centroids, \n",
        "                    [[key, val] for key, val in assiged_clusters.items()], \n",
        "                    accumulator)\n",
        "  del centroids['cells_values']\n",
        "    # cuvamo samo nove koordinate za svaki centroid\n",
        "  centroids = np.array([[val[3], val[4]] for key, val in centroids.items()])"
      ],
      "metadata": {
        "colab": {
          "base_uri": "https://localhost:8080/",
          "height": 927
        },
        "id": "t8t6uMa4Iyu_",
        "outputId": "05620ca2-588c-430c-e1a0-33a1ad4e72ba"
      },
      "execution_count": null,
      "outputs": [
        {
          "output_type": "display_data",
          "data": {
            "text/plain": [
              "<Figure size 504x360 with 1 Axes>"
            ],
            "image/png": "[encoded data removed]"
          },
          "metadata": {
            "needs_background": "light"
          }
        },
        {
          "output_type": "display_data",
          "data": {
            "text/plain": [
              "<Figure size 504x360 with 1 Axes>"
            ],
            "image/png": "[encoded data removed]"
          },
          "metadata": {
            "needs_background": "light"
          }
        },
        {
          "output_type": "display_data",
          "data": {
            "text/plain": [
              "<Figure size 504x360 with 1 Axes>"
            ],
            "image/png": "[encoded data removed]"
          },
          "metadata": {
            "needs_background": "light"
          }
        }
      ]
    }
  ]
}